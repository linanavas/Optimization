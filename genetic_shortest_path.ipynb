{
 "cells": [
  {
   "cell_type": "code",
   "execution_count": 1,
   "metadata": {},
   "outputs": [],
   "source": [
    "import pandas as pd\n",
    "import numpy as np\n",
    "from geneticalgorithm import geneticalgorithm as ga"
   ]
  },
  {
   "cell_type": "code",
   "execution_count": 3,
   "metadata": {},
   "outputs": [],
   "source": [
    "#inputs\n",
    "nodes = pd.read_excel('data/route_inputs.xlsx', sheet_name='nodes')\n",
    "paths = pd.read_excel('data/route_inputs.xlsx', sheet_name='paths')\n",
    "nVars = len(paths)"
   ]
  },
  {
   "cell_type": "code",
   "execution_count": 15,
   "metadata": {},
   "outputs": [],
   "source": [
    "#fitness function\n",
    "def f(x):\n",
    "    pen = 0\n",
    "    \n",
    "    #constraint sum(x) == 1 (origin)\n",
    "    node_origin = int(nodes.node[nodes.description=='origin'])\n",
    "    if sum([x[p] for p in paths.index[paths.node_from==node_origin]]) != 1:\n",
    "        pen += 1000000 * np.abs(sum([x[p] for p in paths.index[paths.node_from==node_origin]]) - 1)\n",
    "    \n",
    "    #constraint sum(x) == 1 (destination)\n",
    "    node_destination = int(nodes.node[nodes.description=='destination'])\n",
    "    if sum([x[p] for p in paths.index[paths.node_to==node_destination]]) != 1:\n",
    "        pen += 1000000 * np.abs(sum([x[p] for p in paths.index[paths.node_to==node_destination]]) - 1)\n",
    "    \n",
    "    #constraint sum(x, in) == sum(x, out)\n",
    "    for node in nodes.node[nodes.description=='middle point']:\n",
    "        sum_in = sum([x[p] for p in paths.index[paths.node_to==node]])\n",
    "        sum_out = sum([x[p] for p in paths.index[paths.node_from==node]])\n",
    "        if sum_in != sum_out:\n",
    "            pen += 1000000 * np.abs(sum_in - sum_out)\n",
    " \n",
    "    #objective function and return\n",
    "    objFun = sum([x[p] * paths.distance[p] for p in paths.index])\n",
    "    return objFun + pen"
   ]
  },
  {
   "cell_type": "code",
   "execution_count": 17,
   "metadata": {},
   "outputs": [],
   "source": [
    "#bounds and var type\n",
    "varbounds = np.array([[0,1]]*nVars)\n",
    "vartype = np.array([['int']]*nVars)\n",
    " \n",
    "#GA parameters\n",
    "algorithm_param = {'max_num_iteration': 500,\\\n",
    "                   'population_size':100,\\\n",
    "                   'mutation_probability':0.30,\\\n",
    "                   'elit_ratio': 0.10,\\\n",
    "                   'crossover_probability': 0.50,\\\n",
    "                   'parents_portion': 0.30,\\\n",
    "                   'crossover_type':'uniform',\\\n",
    "                   'max_iteration_without_improv':100}\n",
    " \n",
    "#Solve\n",
    "model = ga(function=f,\n",
    "           dimension=nVars,\n",
    "           variable_type_mixed=vartype,\n",
    "           variable_boundaries=varbounds,\n",
    "           algorithm_parameters=algorithm_param)"
   ]
  },
  {
   "cell_type": "code",
   "execution_count": 18,
   "metadata": {},
   "outputs": [
    {
     "name": "stderr",
     "output_type": "stream",
     "text": [
      "/tmp/ipykernel_124404/3756869960.py:6: FutureWarning: Calling int on a single element Series is deprecated and will raise a TypeError in the future. Use int(ser.iloc[0]) instead\n",
      "  node_origin = int(nodes.node[nodes.description=='origin'])\n",
      "/tmp/ipykernel_124404/3756869960.py:11: FutureWarning: Calling int on a single element Series is deprecated and will raise a TypeError in the future. Use int(ser.iloc[0]) instead\n",
      "  node_destination = int(nodes.node[nodes.description=='destination'])\n"
     ]
    },
    {
     "name": "stdout",
     "output_type": "stream",
     "text": [
      " The best solution found:                                                                           \n",
      " [1. 0. 1. 0. 1. 0. 0. 0.]\n",
      "\n",
      " Objective function:\n",
      " 1370.0\n"
     ]
    },
    {
     "data": {
      "image/png": "[encoded data removed]",
      "text/plain": [
       "<Figure size 640x480 with 1 Axes>"
      ]
     },
     "metadata": {},
     "output_type": "display_data"
    },
    {
     "name": "stdout",
     "output_type": "stream",
     "text": [
      "\n",
      "Warning: GA is terminated due to the maximum number of iterations without improvement was met!"
     ]
    }
   ],
   "source": [
    "model.run()"
   ]
  },
  {
   "cell_type": "code",
   "execution_count": 19,
   "metadata": {},
   "outputs": [
    {
     "name": "stdout",
     "output_type": "stream",
     "text": [
      "\n",
      "\n",
      "All Paths:\n",
      "   node_from  node_to  distance  activated\n",
      "0          1        2       220          1\n",
      "1          1        3      1500          0\n",
      "2          2        4       650          1\n",
      "3          2        5       900          0\n",
      "4          4        7       500          1\n",
      "5          5        7       400          0\n",
      "6          3        6       500          0\n",
      "7          6        7       400          0\n",
      "\n",
      "Selected Paths:\n",
      "   node_from  node_to  distance  activated\n",
      "0          1        2       220          1\n",
      "2          2        4       650          1\n",
      "4          4        7       500          1\n",
      "\n",
      "Total path: 1370.0\n"
     ]
    }
   ],
   "source": [
    "#print\n",
    "x = model.best_variable\n",
    "objFun = model.best_function\n",
    "paths['activated'] = 0\n",
    "for p in paths.index:\n",
    "    paths.activated[p] = x[p]\n",
    " \n",
    "print('\\n\\nAll Paths:')\n",
    "print(paths)\n",
    " \n",
    "print('\\nSelected Paths:')\n",
    "print(paths[paths.activated==1])\n",
    " \n",
    "print('\\nTotal path:', objFun)"
   ]
  }
 ],
 "metadata": {
  "kernelspec": {
   "display_name": "myenv",
   "language": "python",
   "name": "python3"
  },
  "language_info": {
   "codemirror_mode": {
    "name": "ipython",
    "version": 3
   },
   "file_extension": ".py",
   "mimetype": "text/x-python",
   "name": "python",
   "nbconvert_exporter": "python",
   "pygments_lexer": "ipython3",
   "version": "3.10.8"
  },
  "orig_nbformat": 4
 },
 "nbformat": 4,
 "nbformat_minor": 2
}
